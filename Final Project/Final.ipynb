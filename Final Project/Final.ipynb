{
 "cells": [
  {
   "cell_type": "markdown",
   "id": "c591d6aa",
   "metadata": {},
   "source": [
    "**Import Libraries**"
   ]
  },
  {
   "cell_type": "code",
   "execution_count": 2,
   "id": "27377d76",
   "metadata": {},
   "outputs": [],
   "source": [
    "import pandas as pd\n",
    "import numpy as np\n",
    "import matplotlib.pyplot as plt\n",
    "import seaborn as sns\n",
    "import joblib\n",
    "\n",
    "from sklearn.model_selection import train_test_split, GridSearchCV\n",
    "from sklearn.preprocessing import LabelEncoder, StandardScaler\n",
    "from sklearn.impute import SimpleImputer\n",
    "from sklearn.pipeline import Pipeline\n",
    "from sklearn.compose import ColumnTransformer\n",
    "from sklearn.metrics import accuracy_score, precision_score, recall_score, roc_auc_score, roc_curve, confusion_matrix, classification_report\n",
    "from sklearn.ensemble import RandomForestClassifier"
   ]
  },
  {
   "cell_type": "markdown",
   "id": "4cc190fb",
   "metadata": {},
   "source": [
    "**Load Data**"
   ]
  },
  {
   "cell_type": "code",
   "execution_count": null,
   "id": "cde27d0c",
   "metadata": {},
   "outputs": [
    {
     "name": "stdout",
     "output_type": "stream",
     "text": [
      "Shape of data: (3424, 69)\n",
      "  Ptid Persistency_Flag  Gender           Race     Ethnicity   Region  \\\n",
      "0   P1       Persistent    Male      Caucasian  Not Hispanic     West   \n",
      "1   P2   Non-Persistent    Male          Asian  Not Hispanic     West   \n",
      "2   P3   Non-Persistent  Female  Other/Unknown      Hispanic  Midwest   \n",
      "3   P4   Non-Persistent  Female      Caucasian  Not Hispanic  Midwest   \n",
      "4   P5   Non-Persistent  Female      Caucasian  Not Hispanic  Midwest   \n",
      "\n",
      "  Age_Bucket        Ntm_Speciality Ntm_Specialist_Flag  \\\n",
      "0        >75  GENERAL PRACTITIONER              Others   \n",
      "1      55-65  GENERAL PRACTITIONER              Others   \n",
      "2      65-75  GENERAL PRACTITIONER              Others   \n",
      "3        >75  GENERAL PRACTITIONER              Others   \n",
      "4        >75  GENERAL PRACTITIONER              Others   \n",
      "\n",
      "       Ntm_Speciality_Bucket  ... Risk_Family_History_Of_Osteoporosis  \\\n",
      "0  OB/GYN/Others/PCP/Unknown  ...                                   N   \n",
      "1  OB/GYN/Others/PCP/Unknown  ...                                   N   \n",
      "2  OB/GYN/Others/PCP/Unknown  ...                                   N   \n",
      "3  OB/GYN/Others/PCP/Unknown  ...                                   N   \n",
      "4  OB/GYN/Others/PCP/Unknown  ...                                   N   \n",
      "\n",
      "  Risk_Low_Calcium_Intake  Risk_Vitamin_D_Insufficiency  \\\n",
      "0                       N                             N   \n",
      "1                       N                             N   \n",
      "2                       Y                             N   \n",
      "3                       N                             N   \n",
      "4                       N                             N   \n",
      "\n",
      "  Risk_Poor_Health_Frailty Risk_Excessive_Thinness  \\\n",
      "0                        N                       N   \n",
      "1                        N                       N   \n",
      "2                        N                       N   \n",
      "3                        N                       N   \n",
      "4                        N                       N   \n",
      "\n",
      "  Risk_Hysterectomy_Oophorectomy Risk_Estrogen_Deficiency Risk_Immobilization  \\\n",
      "0                              N                        N                   N   \n",
      "1                              N                        N                   N   \n",
      "2                              N                        N                   N   \n",
      "3                              N                        N                   N   \n",
      "4                              N                        N                   N   \n",
      "\n",
      "  Risk_Recurring_Falls Count_Of_Risks  \n",
      "0                    N              0  \n",
      "1                    N              0  \n",
      "2                    N              2  \n",
      "3                    N              1  \n",
      "4                    N              1  \n",
      "\n",
      "[5 rows x 69 columns]\n",
      "<class 'pandas.core.frame.DataFrame'>\n",
      "RangeIndex: 3424 entries, 0 to 3423\n",
      "Data columns (total 69 columns):\n",
      " #   Column                                                              Non-Null Count  Dtype \n",
      "---  ------                                                              --------------  ----- \n",
      " 0   Ptid                                                                3424 non-null   object\n",
      " 1   Persistency_Flag                                                    3424 non-null   object\n",
      " 2   Gender                                                              3424 non-null   object\n",
      " 3   Race                                                                3424 non-null   object\n",
      " 4   Ethnicity                                                           3424 non-null   object\n",
      " 5   Region                                                              3424 non-null   object\n",
      " 6   Age_Bucket                                                          3424 non-null   object\n",
      " 7   Ntm_Speciality                                                      3424 non-null   object\n",
      " 8   Ntm_Specialist_Flag                                                 3424 non-null   object\n",
      " 9   Ntm_Speciality_Bucket                                               3424 non-null   object\n",
      " 10  Gluco_Record_Prior_Ntm                                              3424 non-null   object\n",
      " 11  Gluco_Record_During_Rx                                              3424 non-null   object\n",
      " 12  Dexa_Freq_During_Rx                                                 3424 non-null   int64 \n",
      " 13  Dexa_During_Rx                                                      3424 non-null   object\n",
      " 14  Frag_Frac_Prior_Ntm                                                 3424 non-null   object\n",
      " 15  Frag_Frac_During_Rx                                                 3424 non-null   object\n",
      " 16  Risk_Segment_Prior_Ntm                                              3424 non-null   object\n",
      " 17  Tscore_Bucket_Prior_Ntm                                             3424 non-null   object\n",
      " 18  Risk_Segment_During_Rx                                              3424 non-null   object\n",
      " 19  Tscore_Bucket_During_Rx                                             3424 non-null   object\n",
      " 20  Change_T_Score                                                      3424 non-null   object\n",
      " 21  Change_Risk_Segment                                                 3424 non-null   object\n",
      " 22  Adherent_Flag                                                       3424 non-null   object\n",
      " 23  Idn_Indicator                                                       3424 non-null   object\n",
      " 24  Injectable_Experience_During_Rx                                     3424 non-null   object\n",
      " 25  Comorb_Encounter_For_Screening_For_Malignant_Neoplasms              3424 non-null   object\n",
      " 26  Comorb_Encounter_For_Immunization                                   3424 non-null   object\n",
      " 27  Comorb_Encntr_For_General_Exam_W_O_Complaint,_Susp_Or_Reprtd_Dx     3424 non-null   object\n",
      " 28  Comorb_Vitamin_D_Deficiency                                         3424 non-null   object\n",
      " 29  Comorb_Other_Joint_Disorder_Not_Elsewhere_Classified                3424 non-null   object\n",
      " 30  Comorb_Encntr_For_Oth_Sp_Exam_W_O_Complaint_Suspected_Or_Reprtd_Dx  3424 non-null   object\n",
      " 31  Comorb_Long_Term_Current_Drug_Therapy                               3424 non-null   object\n",
      " 32  Comorb_Dorsalgia                                                    3424 non-null   object\n",
      " 33  Comorb_Personal_History_Of_Other_Diseases_And_Conditions            3424 non-null   object\n",
      " 34  Comorb_Other_Disorders_Of_Bone_Density_And_Structure                3424 non-null   object\n",
      " 35  Comorb_Disorders_of_lipoprotein_metabolism_and_other_lipidemias     3424 non-null   object\n",
      " 36  Comorb_Osteoporosis_without_current_pathological_fracture           3424 non-null   object\n",
      " 37  Comorb_Personal_history_of_malignant_neoplasm                       3424 non-null   object\n",
      " 38  Comorb_Gastro_esophageal_reflux_disease                             3424 non-null   object\n",
      " 39  Concom_Cholesterol_And_Triglyceride_Regulating_Preparations         3424 non-null   object\n",
      " 40  Concom_Narcotics                                                    3424 non-null   object\n",
      " 41  Concom_Systemic_Corticosteroids_Plain                               3424 non-null   object\n",
      " 42  Concom_Anti_Depressants_And_Mood_Stabilisers                        3424 non-null   object\n",
      " 43  Concom_Fluoroquinolones                                             3424 non-null   object\n",
      " 44  Concom_Cephalosporins                                               3424 non-null   object\n",
      " 45  Concom_Macrolides_And_Similar_Types                                 3424 non-null   object\n",
      " 46  Concom_Broad_Spectrum_Penicillins                                   3424 non-null   object\n",
      " 47  Concom_Anaesthetics_General                                         3424 non-null   object\n",
      " 48  Concom_Viral_Vaccines                                               3424 non-null   object\n",
      " 49  Risk_Type_1_Insulin_Dependent_Diabetes                              3424 non-null   object\n",
      " 50  Risk_Osteogenesis_Imperfecta                                        3424 non-null   object\n",
      " 51  Risk_Rheumatoid_Arthritis                                           3424 non-null   object\n",
      " 52  Risk_Untreated_Chronic_Hyperthyroidism                              3424 non-null   object\n",
      " 53  Risk_Untreated_Chronic_Hypogonadism                                 3424 non-null   object\n",
      " 54  Risk_Untreated_Early_Menopause                                      3424 non-null   object\n",
      " 55  Risk_Patient_Parent_Fractured_Their_Hip                             3424 non-null   object\n",
      " 56  Risk_Smoking_Tobacco                                                3424 non-null   object\n",
      " 57  Risk_Chronic_Malnutrition_Or_Malabsorption                          3424 non-null   object\n",
      " 58  Risk_Chronic_Liver_Disease                                          3424 non-null   object\n",
      " 59  Risk_Family_History_Of_Osteoporosis                                 3424 non-null   object\n",
      " 60  Risk_Low_Calcium_Intake                                             3424 non-null   object\n",
      " 61  Risk_Vitamin_D_Insufficiency                                        3424 non-null   object\n",
      " 62  Risk_Poor_Health_Frailty                                            3424 non-null   object\n",
      " 63  Risk_Excessive_Thinness                                             3424 non-null   object\n",
      " 64  Risk_Hysterectomy_Oophorectomy                                      3424 non-null   object\n",
      " 65  Risk_Estrogen_Deficiency                                            3424 non-null   object\n",
      " 66  Risk_Immobilization                                                 3424 non-null   object\n",
      " 67  Risk_Recurring_Falls                                                3424 non-null   object\n",
      " 68  Count_Of_Risks                                                      3424 non-null   int64 \n",
      "dtypes: int64(2), object(67)\n",
      "memory usage: 1.8+ MB\n",
      "None\n"
     ]
    }
   ],
   "source": [
    "df = pd.read_csv('pharma_data.csv')\n",
    "print(\"Shape of data:\", df.shape)\n",
    "print(df.head())\n",
    "print(df.info())"
   ]
  },
  {
   "cell_type": "markdown",
   "id": "f41dad00",
   "metadata": {},
   "source": [
    "**Define Target**"
   ]
  },
  {
   "cell_type": "code",
   "execution_count": 20,
   "id": "23ed1a32",
   "metadata": {},
   "outputs": [],
   "source": [
    "target = 'Persistency_Flag'\n",
    "X = df.drop(columns=[target, 'Ptid'])\n",
    "y = df[target]\n",
    "\n",
    "# If target is string labels, encode:\n",
    "if y.dtype == 'object':\n",
    "    from sklearn.preprocessing import LabelEncoder\n",
    "    y = LabelEncoder().fit_transform(y)"
   ]
  },
  {
   "cell_type": "markdown",
   "id": "c34e37c1",
   "metadata": {},
   "source": [
    "**Detect Categorical + Numeric Collumns**"
   ]
  },
  {
   "cell_type": "code",
   "execution_count": 21,
   "id": "b0e3a6c7",
   "metadata": {},
   "outputs": [
    {
     "name": "stdout",
     "output_type": "stream",
     "text": [
      "Categorical columns: ['Gender', 'Race', 'Ethnicity', 'Region', 'Age_Bucket', 'Ntm_Speciality', 'Ntm_Specialist_Flag', 'Ntm_Speciality_Bucket', 'Gluco_Record_Prior_Ntm', 'Gluco_Record_During_Rx', 'Dexa_During_Rx', 'Frag_Frac_Prior_Ntm', 'Frag_Frac_During_Rx', 'Risk_Segment_Prior_Ntm', 'Tscore_Bucket_Prior_Ntm', 'Risk_Segment_During_Rx', 'Tscore_Bucket_During_Rx', 'Change_T_Score', 'Change_Risk_Segment', 'Adherent_Flag', 'Idn_Indicator', 'Injectable_Experience_During_Rx', 'Comorb_Encounter_For_Screening_For_Malignant_Neoplasms', 'Comorb_Encounter_For_Immunization', 'Comorb_Encntr_For_General_Exam_W_O_Complaint,_Susp_Or_Reprtd_Dx', 'Comorb_Vitamin_D_Deficiency', 'Comorb_Other_Joint_Disorder_Not_Elsewhere_Classified', 'Comorb_Encntr_For_Oth_Sp_Exam_W_O_Complaint_Suspected_Or_Reprtd_Dx', 'Comorb_Long_Term_Current_Drug_Therapy', 'Comorb_Dorsalgia', 'Comorb_Personal_History_Of_Other_Diseases_And_Conditions', 'Comorb_Other_Disorders_Of_Bone_Density_And_Structure', 'Comorb_Disorders_of_lipoprotein_metabolism_and_other_lipidemias', 'Comorb_Osteoporosis_without_current_pathological_fracture', 'Comorb_Personal_history_of_malignant_neoplasm', 'Comorb_Gastro_esophageal_reflux_disease', 'Concom_Cholesterol_And_Triglyceride_Regulating_Preparations', 'Concom_Narcotics', 'Concom_Systemic_Corticosteroids_Plain', 'Concom_Anti_Depressants_And_Mood_Stabilisers', 'Concom_Fluoroquinolones', 'Concom_Cephalosporins', 'Concom_Macrolides_And_Similar_Types', 'Concom_Broad_Spectrum_Penicillins', 'Concom_Anaesthetics_General', 'Concom_Viral_Vaccines', 'Risk_Type_1_Insulin_Dependent_Diabetes', 'Risk_Osteogenesis_Imperfecta', 'Risk_Rheumatoid_Arthritis', 'Risk_Untreated_Chronic_Hyperthyroidism', 'Risk_Untreated_Chronic_Hypogonadism', 'Risk_Untreated_Early_Menopause', 'Risk_Patient_Parent_Fractured_Their_Hip', 'Risk_Smoking_Tobacco', 'Risk_Chronic_Malnutrition_Or_Malabsorption', 'Risk_Chronic_Liver_Disease', 'Risk_Family_History_Of_Osteoporosis', 'Risk_Low_Calcium_Intake', 'Risk_Vitamin_D_Insufficiency', 'Risk_Poor_Health_Frailty', 'Risk_Excessive_Thinness', 'Risk_Hysterectomy_Oophorectomy', 'Risk_Estrogen_Deficiency', 'Risk_Immobilization', 'Risk_Recurring_Falls']\n",
      "Numeric columns: ['Dexa_Freq_During_Rx', 'Count_Of_Risks']\n"
     ]
    }
   ],
   "source": [
    "categorical_cols = X.select_dtypes(include=['object', 'category']).columns.tolist()\n",
    "numeric_cols = X.select_dtypes(include=['number']).columns.tolist()\n",
    "\n",
    "# Print to verify\n",
    "print(\"Categorical columns:\", categorical_cols)\n",
    "print(\"Numeric columns:\", numeric_cols)"
   ]
  },
  {
   "cell_type": "markdown",
   "id": "70703486",
   "metadata": {},
   "source": [
    "**Handling Missing Values**"
   ]
  },
  {
   "cell_type": "code",
   "execution_count": 22,
   "id": "f7fc5260",
   "metadata": {},
   "outputs": [],
   "source": [
    "numeric_imputer = SimpleImputer(strategy='median')\n",
    "categorical_imputer = SimpleImputer(strategy='most_frequent')"
   ]
  },
  {
   "cell_type": "markdown",
   "id": "1dbe4561",
   "metadata": {},
   "source": [
    "**Encoding Pipelines**"
   ]
  },
  {
   "cell_type": "code",
   "execution_count": 23,
   "id": "a4f110ce",
   "metadata": {},
   "outputs": [],
   "source": [
    "categorical_pipeline = Pipeline(steps=[\n",
    "    ('imputer', categorical_imputer),\n",
    "    ('encoder', OneHotEncoder(handle_unknown='ignore', dtype=int))\n",
    "])"
   ]
  },
  {
   "cell_type": "markdown",
   "id": "8d06de46",
   "metadata": {},
   "source": [
    "**Full Preprocessor**"
   ]
  },
  {
   "cell_type": "code",
   "execution_count": 24,
   "id": "627dbf68",
   "metadata": {},
   "outputs": [],
   "source": [
    "preprocessor = ColumnTransformer(\n",
    "    transformers=[\n",
    "        ('num', numeric_imputer, numeric_cols),\n",
    "        ('cat', categorical_pipeline, categorical_cols)\n",
    "    ]\n",
    ")"
   ]
  },
  {
   "cell_type": "markdown",
   "id": "836bfde7",
   "metadata": {},
   "source": [
    "**Full Model Pipeline**"
   ]
  },
  {
   "cell_type": "code",
   "execution_count": 26,
   "id": "cc8ff996",
   "metadata": {},
   "outputs": [],
   "source": [
    "model_pipeline = Pipeline(steps=[\n",
    "    ('preprocessor', preprocessor),\n",
    "    ('classifier', RandomForestClassifier(random_state=42))\n",
    "])\n",
    "X_train, X_test, y_train, y_test = train_test_split(\n",
    "    X, y, test_size=0.2, stratify=y, random_state=42\n",
    ")"
   ]
  },
  {
   "cell_type": "markdown",
   "id": "20bcc7c5",
   "metadata": {},
   "source": [
    "**Grid Search**"
   ]
  },
  {
   "cell_type": "code",
   "execution_count": 27,
   "id": "06bd2914",
   "metadata": {},
   "outputs": [
    {
     "name": "stdout",
     "output_type": "stream",
     "text": [
      "\n",
      "=== Debugging Columns ===\n",
      "X_train columns: ['Gender', 'Race', 'Ethnicity', 'Region', 'Age_Bucket', 'Ntm_Speciality', 'Ntm_Specialist_Flag', 'Ntm_Speciality_Bucket', 'Gluco_Record_Prior_Ntm', 'Gluco_Record_During_Rx', 'Dexa_Freq_During_Rx', 'Dexa_During_Rx', 'Frag_Frac_Prior_Ntm', 'Frag_Frac_During_Rx', 'Risk_Segment_Prior_Ntm', 'Tscore_Bucket_Prior_Ntm', 'Risk_Segment_During_Rx', 'Tscore_Bucket_During_Rx', 'Change_T_Score', 'Change_Risk_Segment', 'Adherent_Flag', 'Idn_Indicator', 'Injectable_Experience_During_Rx', 'Comorb_Encounter_For_Screening_For_Malignant_Neoplasms', 'Comorb_Encounter_For_Immunization', 'Comorb_Encntr_For_General_Exam_W_O_Complaint,_Susp_Or_Reprtd_Dx', 'Comorb_Vitamin_D_Deficiency', 'Comorb_Other_Joint_Disorder_Not_Elsewhere_Classified', 'Comorb_Encntr_For_Oth_Sp_Exam_W_O_Complaint_Suspected_Or_Reprtd_Dx', 'Comorb_Long_Term_Current_Drug_Therapy', 'Comorb_Dorsalgia', 'Comorb_Personal_History_Of_Other_Diseases_And_Conditions', 'Comorb_Other_Disorders_Of_Bone_Density_And_Structure', 'Comorb_Disorders_of_lipoprotein_metabolism_and_other_lipidemias', 'Comorb_Osteoporosis_without_current_pathological_fracture', 'Comorb_Personal_history_of_malignant_neoplasm', 'Comorb_Gastro_esophageal_reflux_disease', 'Concom_Cholesterol_And_Triglyceride_Regulating_Preparations', 'Concom_Narcotics', 'Concom_Systemic_Corticosteroids_Plain', 'Concom_Anti_Depressants_And_Mood_Stabilisers', 'Concom_Fluoroquinolones', 'Concom_Cephalosporins', 'Concom_Macrolides_And_Similar_Types', 'Concom_Broad_Spectrum_Penicillins', 'Concom_Anaesthetics_General', 'Concom_Viral_Vaccines', 'Risk_Type_1_Insulin_Dependent_Diabetes', 'Risk_Osteogenesis_Imperfecta', 'Risk_Rheumatoid_Arthritis', 'Risk_Untreated_Chronic_Hyperthyroidism', 'Risk_Untreated_Chronic_Hypogonadism', 'Risk_Untreated_Early_Menopause', 'Risk_Patient_Parent_Fractured_Their_Hip', 'Risk_Smoking_Tobacco', 'Risk_Chronic_Malnutrition_Or_Malabsorption', 'Risk_Chronic_Liver_Disease', 'Risk_Family_History_Of_Osteoporosis', 'Risk_Low_Calcium_Intake', 'Risk_Vitamin_D_Insufficiency', 'Risk_Poor_Health_Frailty', 'Risk_Excessive_Thinness', 'Risk_Hysterectomy_Oophorectomy', 'Risk_Estrogen_Deficiency', 'Risk_Immobilization', 'Risk_Recurring_Falls', 'Count_Of_Risks']\n",
      "Missing columns: []\n",
      "Fitting 5 folds for each of 12 candidates, totalling 60 fits\n",
      "Best parameters: {'classifier__max_depth': 10, 'classifier__min_samples_split': 2, 'classifier__n_estimators': 200}\n"
     ]
    }
   ],
   "source": [
    "param_grid = {\n",
    "    'classifier__n_estimators': [100, 200],\n",
    "    'classifier__max_depth': [5, 10, 20],\n",
    "    'classifier__min_samples_split': [2, 5]\n",
    "}\n",
    "\n",
    "print(\"\\n=== Debugging Columns ===\")\n",
    "print(\"X_train columns:\", X_train.columns.tolist())\n",
    "\n",
    "missing_cols = [col for col in categorical_cols + numeric_cols if col not in X_train.columns]\n",
    "print(\"Missing columns:\", missing_cols)\n",
    "\n",
    "# Fit GridSearchCV\n",
    "grid_search = GridSearchCV(model_pipeline, param_grid, cv=5, scoring='roc_auc', n_jobs=-1, verbose=2)\n",
    "grid_search.fit(X_train, y_train)\n",
    "\n",
    "print(\"Best parameters:\", grid_search.best_params_)\n"
   ]
  },
  {
   "cell_type": "markdown",
   "id": "92fddc9b",
   "metadata": {},
   "source": [
    "**Evaluate Best Model**"
   ]
  },
  {
   "cell_type": "code",
   "execution_count": 28,
   "id": "b3850720",
   "metadata": {},
   "outputs": [
    {
     "name": "stdout",
     "output_type": "stream",
     "text": [
      "\n",
      "=== FINAL MODEL PERFORMANCE ===\n",
      "Accuracy : 0.8161\n",
      "Precision: 0.8056\n",
      "Recall   : 0.6744\n",
      "ROC AUC  : 0.8779\n",
      "\n",
      "Confusion Matrix:\n",
      " [[385  42]\n",
      " [ 84 174]]\n",
      "\n",
      "Classification Report:\n",
      "               precision    recall  f1-score   support\n",
      "\n",
      "           0       0.82      0.90      0.86       427\n",
      "           1       0.81      0.67      0.73       258\n",
      "\n",
      "    accuracy                           0.82       685\n",
      "   macro avg       0.81      0.79      0.80       685\n",
      "weighted avg       0.82      0.82      0.81       685\n",
      "\n"
     ]
    }
   ],
   "source": [
    "best_model = grid_search.best_estimator_\n",
    "\n",
    "y_pred = best_model.predict(X_test)\n",
    "y_proba = best_model.predict_proba(X_test)[:, 1]\n",
    "\n",
    "# Metrics\n",
    "accuracy = accuracy_score(y_test, y_pred)\n",
    "precision = precision_score(y_test, y_pred)\n",
    "recall = recall_score(y_test, y_pred)\n",
    "roc_auc = roc_auc_score(y_test, y_proba)\n",
    "\n",
    "print(\"\\n=== FINAL MODEL PERFORMANCE ===\")\n",
    "print(\"Accuracy :\", round(accuracy, 4))\n",
    "print(\"Precision:\", round(precision, 4))\n",
    "print(\"Recall   :\", round(recall, 4))\n",
    "print(\"ROC AUC  :\", round(roc_auc, 4))\n",
    "print(\"\\nConfusion Matrix:\\n\", confusion_matrix(y_test, y_pred))\n",
    "print(\"\\nClassification Report:\\n\", classification_report(y_test, y_pred))"
   ]
  },
  {
   "cell_type": "markdown",
   "id": "8d547e37",
   "metadata": {},
   "source": [
    "**Plot Roc Curve**"
   ]
  },
  {
   "cell_type": "code",
   "execution_count": 29,
   "id": "b321315c",
   "metadata": {},
   "outputs": [
    {
     "data": {
      "image/png": "[encoded data removed]",
      "text/plain": [
       "<Figure size 800x600 with 1 Axes>"
      ]
     },
     "metadata": {},
     "output_type": "display_data"
    }
   ],
   "source": [
    "fpr, tpr, _ = roc_curve(y_test, y_proba)\n",
    "plt.figure(figsize=(8,6))\n",
    "plt.plot(fpr, tpr, label=f\"ROC Curve (AUC = {roc_auc:.4f})\")\n",
    "plt.plot([0,1], [0,1], 'k--')\n",
    "plt.xlabel('False Positive Rate')\n",
    "plt.ylabel('True Positive Rate')\n",
    "plt.title('ROC Curve')\n",
    "plt.legend()\n",
    "plt.grid()\n",
    "plt.show()"
   ]
  },
  {
   "cell_type": "markdown",
   "id": "07a3b105",
   "metadata": {},
   "source": [
    "**Save Model**"
   ]
  },
  {
   "cell_type": "code",
   "execution_count": 30,
   "id": "98d6206c",
   "metadata": {},
   "outputs": [
    {
     "name": "stdout",
     "output_type": "stream",
     "text": [
      "Model saved to persistency_model.joblib\n"
     ]
    }
   ],
   "source": [
    "joblib.dump(best_model, 'persistency_model.joblib')\n",
    "print(\"Model saved to persistency_model.joblib\")"
   ]
  }
 ],
 "metadata": {
  "kernelspec": {
   "display_name": "Python 3",
   "language": "python",
   "name": "python3"
  },
  "language_info": {
   "codemirror_mode": {
    "name": "ipython",
    "version": 3
   },
   "file_extension": ".py",
   "mimetype": "text/x-python",
   "name": "python",
   "nbconvert_exporter": "python",
   "pygments_lexer": "ipython3",
   "version": "3.11.4"
  }
 },
 "nbformat": 4,
 "nbformat_minor": 5
}
