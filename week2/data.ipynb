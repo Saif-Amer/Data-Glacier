{
 "cells": [
  {
   "cell_type": "markdown",
   "metadata": {},
   "source": [
    "# EDA Notebook"
   ]
  },
  {
   "cell_type": "markdown",
   "metadata": {},
   "source": [
    "### Introduction"
   ]
  },
  {
   "cell_type": "markdown",
   "metadata": {},
   "source": [
    "**Business Problem**"
   ]
  },
  {
   "cell_type": "markdown",
   "metadata": {},
   "source": [
    "XYZ, a private firm in the U.S., is exploring an investment in the cab industry due to its rapid growth. The firm is considering two competing cab companies and wants to make a data-driven decision on which company would be the better investment opportunity.\n",
    "\n",
    "The key questions we aim to answer in this analysis are:\n",
    "-  __Which cab company dominates the highest number of major cities?__\n",
    "- __Which cab company has a majority market share__\n",
    "- __How does the Revenue from the Cab companies vary with time__"
   ]
  },
  {
   "cell_type": "markdown",
   "metadata": {},
   "source": [
    "**Objective**"
   ]
  },
  {
   "cell_type": "markdown",
   "metadata": {},
   "source": [
    "To support XYZ’s investment decision, we will analyze multiple datasets to:\n",
    "\n",
    "Compare market share of both cab companies.\n",
    "Identify trends in customer usage and city-wise dominance.\n",
    "Provide actionable insights on which company has a stronger presence."
   ]
  },
  {
   "cell_type": "markdown",
   "metadata": {},
   "source": [
    "**Data Understanding**"
   ]
  },
  {
   "cell_type": "markdown",
   "metadata": {},
   "source": [
    "| Names of Collumns       | Description                      |\n",
    "|------------------|--------------------------------|\n",
    "| Transaction ID   | Unique ID for each transaction |\n",
    "| Customer ID      | Links transaction to customer  |\n",
    "| City            | City where ride occurred       |\n",
    "| Price           | Price of Trip           |\n",
    "| Payment_Mode     | How the Customer paid for the trip |\n",
    "| Comapany | Which company was used for the trip |\n",
    "| KM Traveled | Distance of the trip in Kilometer|\n",
    "| Cost Charged | How much the Customer paid|\n",
    "| Age | Age of Customer|\n",
    "|Gender | Gender of Customer|\n",
    "|Population| Population of the city |"
   ]
  },
  {
   "cell_type": "markdown",
   "metadata": {},
   "source": [
    "**The Datasets**"
   ]
  },
  {
   "cell_type": "markdown",
   "metadata": {},
   "source": [
    "We have been provided with four datasets, each covering different aspects of the cab industry. Below is a description of each dataset:\n",
    "| Names of Dataset      | Whats Included                     |\n",
    "|------------------|--------------------------------|\n",
    "| Cab_Data.csv | Unique Transaction ID, Date, Company, City, Price and Cost |\n",
    "| City.csv     | Name of city, Population of City, # of users in city  |\n",
    "| Customer_ID.csv          | Unique Customer ID, Gener, Age and Income    |\n",
    "| Transaction_ID.csv         | Unique Transaction ID, Unique Customer ID, and Payment_Mode       |\n"
   ]
  },
  {
   "cell_type": "markdown",
   "metadata": {},
   "source": [
    "**Relationships between Data Sets**"
   ]
  },
  {
   "cell_type": "markdown",
   "metadata": {},
   "source": [
    "Each dataset connects through common identifiers, allowing us to merge them into a master dataset for analysis.\n",
    "Primary Key Relationships:\n",
    "\n",
    "-  Transaction ID connects Cab_Data.csv and Transaction_ID.csv.\n",
    "-  Customer ID connects Transaction_ID.csv and Customer_ID.csv.\n",
    "-  City serves as a common field in Cab_Data.csv and City.csv."
   ]
  },
  {
   "cell_type": "markdown",
   "metadata": {},
   "source": [
    "### The Data Analysis"
   ]
  },
  {
   "cell_type": "markdown",
   "metadata": {},
   "source": [
    "**First Steps**"
   ]
  },
  {
   "cell_type": "markdown",
   "metadata": {},
   "source": [
    "-  Importing Pandas as pd\n",
    "-  reading the data sets to see what we're working with"
   ]
  },
  {
   "cell_type": "code",
   "execution_count": 9,
   "metadata": {},
   "outputs": [
    {
     "data": {
      "text/plain": [
       "(   Transaction ID  Date of Travel   Company        City  KM Travelled  \\\n",
       " 0        10000011           42377  Pink Cab  ATLANTA GA         30.45   \n",
       " 1        10000012           42375  Pink Cab  ATLANTA GA         28.62   \n",
       " 2        10000013           42371  Pink Cab  ATLANTA GA          9.04   \n",
       " 3        10000014           42376  Pink Cab  ATLANTA GA         33.17   \n",
       " 4        10000015           42372  Pink Cab  ATLANTA GA          8.73   \n",
       " \n",
       "    Price Charged  Cost of Trip  \n",
       " 0         370.95       313.635  \n",
       " 1         358.52       334.854  \n",
       " 2         125.20        97.632  \n",
       " 3         377.40       351.602  \n",
       " 4         114.62        97.776  ,\n",
       "    Customer ID Gender  Age  Income (USD/Month)\n",
       " 0        29290   Male   28               10813\n",
       " 1        27703   Male   27                9237\n",
       " 2        28712   Male   53               11242\n",
       " 3        28020   Male   23               23327\n",
       " 4        27182   Male   33                8536,\n",
       "    Transaction ID  Customer ID Payment_Mode\n",
       " 0        10000011        29290         Card\n",
       " 1        10000012        27703         Card\n",
       " 2        10000013        28712         Cash\n",
       " 3        10000014        28020         Cash\n",
       " 4        10000015        27182         Card,\n",
       "              City   Population      Users\n",
       " 0     NEW YORK NY   8,405,837    302,149 \n",
       " 1      CHICAGO IL   1,955,130    164,468 \n",
       " 2  LOS ANGELES CA   1,595,037    144,132 \n",
       " 3        MIAMI FL   1,339,155     17,675 \n",
       " 4  SILICON VALLEY   1,177,609     27,247 )"
      ]
     },
     "execution_count": 9,
     "metadata": {},
     "output_type": "execute_result"
    }
   ],
   "source": [
    "import pandas as pd\n",
    "cab_data = pd.read_csv(\"Cab_Data.csv\")\n",
    "customer_data = pd.read_csv(\"Customer_ID.csv\")\n",
    "transaction_data = pd.read_csv(\"Transaction_ID.csv\")\n",
    "city_data = pd.read_csv(\"City.csv\")\n",
    "\n",
    "# Inspect the first few rows\n",
    "cab_data.head(), customer_data.head(), transaction_data.head(), city_data.head()"
   ]
  },
  {
   "cell_type": "markdown",
   "metadata": {},
   "source": [
    "##### *We begin merging the data sets together to create a master data set to make data analysis easier. We use the shared collumns as stated before*"
   ]
  },
  {
   "cell_type": "code",
   "execution_count": 10,
   "metadata": {},
   "outputs": [],
   "source": [
    "cab_transactions = pd.merge(transaction_data, cab_data, on= \"Transaction ID\" , how=\"inner\")"
   ]
  },
  {
   "cell_type": "code",
   "execution_count": 12,
   "metadata": {},
   "outputs": [],
   "source": [
    "master_data = pd.merge(cab_transactions, customer_data, on= \"Customer ID\", how= \"inner\")"
   ]
  },
  {
   "cell_type": "code",
   "execution_count": 13,
   "metadata": {},
   "outputs": [],
   "source": [
    "master_data = pd.merge(master_data, city_data, on=\"City\", how=\"left\")"
   ]
  },
  {
   "cell_type": "code",
   "execution_count": 14,
   "metadata": {},
   "outputs": [
    {
     "name": "stdout",
     "output_type": "stream",
     "text": [
      "Transaction ID        0\n",
      "Customer ID           0\n",
      "Payment_Mode          0\n",
      "Date of Travel        0\n",
      "Company               0\n",
      "City                  0\n",
      "KM Travelled          0\n",
      "Price Charged         0\n",
      "Cost of Trip          0\n",
      "Gender                0\n",
      "Age                   0\n",
      "Income (USD/Month)    0\n",
      "Population            0\n",
      "Users                 0\n",
      "dtype: int64\n",
      "(359392, 14)\n"
     ]
    },
    {
     "data": {
      "text/html": [
       "<div>\n",
       "<style scoped>\n",
       "    .dataframe tbody tr th:only-of-type {\n",
       "        vertical-align: middle;\n",
       "    }\n",
       "\n",
       "    .dataframe tbody tr th {\n",
       "        vertical-align: top;\n",
       "    }\n",
       "\n",
       "    .dataframe thead th {\n",
       "        text-align: right;\n",
       "    }\n",
       "</style>\n",
       "<table border=\"1\" class=\"dataframe\">\n",
       "  <thead>\n",
       "    <tr style=\"text-align: right;\">\n",
       "      <th></th>\n",
       "      <th>Transaction ID</th>\n",
       "      <th>Customer ID</th>\n",
       "      <th>Payment_Mode</th>\n",
       "      <th>Date of Travel</th>\n",
       "      <th>Company</th>\n",
       "      <th>City</th>\n",
       "      <th>KM Travelled</th>\n",
       "      <th>Price Charged</th>\n",
       "      <th>Cost of Trip</th>\n",
       "      <th>Gender</th>\n",
       "      <th>Age</th>\n",
       "      <th>Income (USD/Month)</th>\n",
       "      <th>Population</th>\n",
       "      <th>Users</th>\n",
       "    </tr>\n",
       "  </thead>\n",
       "  <tbody>\n",
       "    <tr>\n",
       "      <th>0</th>\n",
       "      <td>10000011</td>\n",
       "      <td>29290</td>\n",
       "      <td>Card</td>\n",
       "      <td>42377</td>\n",
       "      <td>Pink Cab</td>\n",
       "      <td>ATLANTA GA</td>\n",
       "      <td>30.45</td>\n",
       "      <td>370.95</td>\n",
       "      <td>313.635</td>\n",
       "      <td>Male</td>\n",
       "      <td>28</td>\n",
       "      <td>10813</td>\n",
       "      <td>814,885</td>\n",
       "      <td>24,701</td>\n",
       "    </tr>\n",
       "    <tr>\n",
       "      <th>1</th>\n",
       "      <td>10000012</td>\n",
       "      <td>27703</td>\n",
       "      <td>Card</td>\n",
       "      <td>42375</td>\n",
       "      <td>Pink Cab</td>\n",
       "      <td>ATLANTA GA</td>\n",
       "      <td>28.62</td>\n",
       "      <td>358.52</td>\n",
       "      <td>334.854</td>\n",
       "      <td>Male</td>\n",
       "      <td>27</td>\n",
       "      <td>9237</td>\n",
       "      <td>814,885</td>\n",
       "      <td>24,701</td>\n",
       "    </tr>\n",
       "    <tr>\n",
       "      <th>2</th>\n",
       "      <td>10000013</td>\n",
       "      <td>28712</td>\n",
       "      <td>Cash</td>\n",
       "      <td>42371</td>\n",
       "      <td>Pink Cab</td>\n",
       "      <td>ATLANTA GA</td>\n",
       "      <td>9.04</td>\n",
       "      <td>125.20</td>\n",
       "      <td>97.632</td>\n",
       "      <td>Male</td>\n",
       "      <td>53</td>\n",
       "      <td>11242</td>\n",
       "      <td>814,885</td>\n",
       "      <td>24,701</td>\n",
       "    </tr>\n",
       "    <tr>\n",
       "      <th>3</th>\n",
       "      <td>10000014</td>\n",
       "      <td>28020</td>\n",
       "      <td>Cash</td>\n",
       "      <td>42376</td>\n",
       "      <td>Pink Cab</td>\n",
       "      <td>ATLANTA GA</td>\n",
       "      <td>33.17</td>\n",
       "      <td>377.40</td>\n",
       "      <td>351.602</td>\n",
       "      <td>Male</td>\n",
       "      <td>23</td>\n",
       "      <td>23327</td>\n",
       "      <td>814,885</td>\n",
       "      <td>24,701</td>\n",
       "    </tr>\n",
       "    <tr>\n",
       "      <th>4</th>\n",
       "      <td>10000015</td>\n",
       "      <td>27182</td>\n",
       "      <td>Card</td>\n",
       "      <td>42372</td>\n",
       "      <td>Pink Cab</td>\n",
       "      <td>ATLANTA GA</td>\n",
       "      <td>8.73</td>\n",
       "      <td>114.62</td>\n",
       "      <td>97.776</td>\n",
       "      <td>Male</td>\n",
       "      <td>33</td>\n",
       "      <td>8536</td>\n",
       "      <td>814,885</td>\n",
       "      <td>24,701</td>\n",
       "    </tr>\n",
       "  </tbody>\n",
       "</table>\n",
       "</div>"
      ],
      "text/plain": [
       "   Transaction ID  Customer ID Payment_Mode  Date of Travel   Company  \\\n",
       "0        10000011        29290         Card           42377  Pink Cab   \n",
       "1        10000012        27703         Card           42375  Pink Cab   \n",
       "2        10000013        28712         Cash           42371  Pink Cab   \n",
       "3        10000014        28020         Cash           42376  Pink Cab   \n",
       "4        10000015        27182         Card           42372  Pink Cab   \n",
       "\n",
       "         City  KM Travelled  Price Charged  Cost of Trip Gender  Age  \\\n",
       "0  ATLANTA GA         30.45         370.95       313.635   Male   28   \n",
       "1  ATLANTA GA         28.62         358.52       334.854   Male   27   \n",
       "2  ATLANTA GA          9.04         125.20        97.632   Male   53   \n",
       "3  ATLANTA GA         33.17         377.40       351.602   Male   23   \n",
       "4  ATLANTA GA          8.73         114.62        97.776   Male   33   \n",
       "\n",
       "   Income (USD/Month) Population     Users  \n",
       "0               10813   814,885    24,701   \n",
       "1                9237   814,885    24,701   \n",
       "2               11242   814,885    24,701   \n",
       "3               23327   814,885    24,701   \n",
       "4                8536   814,885    24,701   "
      ]
     },
     "execution_count": 14,
     "metadata": {},
     "output_type": "execute_result"
    }
   ],
   "source": [
    "# Check for missing values\n",
    "print(master_data.isnull().sum())\n",
    "\n",
    "# Check dataset shape\n",
    "print(master_data.shape)\n",
    "\n",
    "# Preview the dataset\n",
    "master_data.head()"
   ]
  },
  {
   "cell_type": "markdown",
   "metadata": {},
   "source": [
    "#### *Hypothesis 1: Which country dominates the higher amount of major US Cities*"
   ]
  },
  {
   "cell_type": "code",
   "execution_count": 16,
   "metadata": {},
   "outputs": [
    {
     "data": {
      "text/html": [
       "<div>\n",
       "<style scoped>\n",
       "    .dataframe tbody tr th:only-of-type {\n",
       "        vertical-align: middle;\n",
       "    }\n",
       "\n",
       "    .dataframe tbody tr th {\n",
       "        vertical-align: top;\n",
       "    }\n",
       "\n",
       "    .dataframe thead th {\n",
       "        text-align: right;\n",
       "    }\n",
       "</style>\n",
       "<table border=\"1\" class=\"dataframe\">\n",
       "  <thead>\n",
       "    <tr style=\"text-align: right;\">\n",
       "      <th></th>\n",
       "      <th>City</th>\n",
       "      <th>Company</th>\n",
       "      <th>total_rides</th>\n",
       "      <th>total_revenue</th>\n",
       "    </tr>\n",
       "  </thead>\n",
       "  <tbody>\n",
       "    <tr>\n",
       "      <th>1</th>\n",
       "      <td>ATLANTA GA</td>\n",
       "      <td>Yellow Cab</td>\n",
       "      <td>5795</td>\n",
       "      <td>2447885.92</td>\n",
       "    </tr>\n",
       "    <tr>\n",
       "      <th>0</th>\n",
       "      <td>ATLANTA GA</td>\n",
       "      <td>Pink Cab</td>\n",
       "      <td>1762</td>\n",
       "      <td>532355.80</td>\n",
       "    </tr>\n",
       "    <tr>\n",
       "      <th>3</th>\n",
       "      <td>AUSTIN TX</td>\n",
       "      <td>Yellow Cab</td>\n",
       "      <td>3028</td>\n",
       "      <td>1278569.79</td>\n",
       "    </tr>\n",
       "    <tr>\n",
       "      <th>2</th>\n",
       "      <td>AUSTIN TX</td>\n",
       "      <td>Pink Cab</td>\n",
       "      <td>1868</td>\n",
       "      <td>598572.71</td>\n",
       "    </tr>\n",
       "    <tr>\n",
       "      <th>5</th>\n",
       "      <td>BOSTON MA</td>\n",
       "      <td>Yellow Cab</td>\n",
       "      <td>24506</td>\n",
       "      <td>8801095.40</td>\n",
       "    </tr>\n",
       "  </tbody>\n",
       "</table>\n",
       "</div>"
      ],
      "text/plain": [
       "         City     Company  total_rides  total_revenue\n",
       "1  ATLANTA GA  Yellow Cab         5795     2447885.92\n",
       "0  ATLANTA GA    Pink Cab         1762      532355.80\n",
       "3   AUSTIN TX  Yellow Cab         3028     1278569.79\n",
       "2   AUSTIN TX    Pink Cab         1868      598572.71\n",
       "5   BOSTON MA  Yellow Cab        24506     8801095.40"
      ]
     },
     "execution_count": 16,
     "metadata": {},
     "output_type": "execute_result"
    }
   ],
   "source": [
    "# Group by City and Company, then sum relevant metrics (total rides & total revenue)\n",
    "city_company_stats = master_data.groupby([\"City\", \"Company\"]).agg(\n",
    "    total_rides=(\"Transaction ID\", \"count\"),  # Count transactions\n",
    "    total_revenue=(\"Price Charged\", \"sum\")  # Sum total fare amount\n",
    ").reset_index()\n",
    "\n",
    "# Sort by total_rides to see which company dominates in each city\n",
    "city_company_stats.sort_values([\"City\", \"total_rides\"], ascending=[True, False], inplace=True)\n",
    "\n",
    "# Display the first few rows\n",
    "city_company_stats.head()"
   ]
  },
  {
   "cell_type": "code",
   "execution_count": 17,
   "metadata": {},
   "outputs": [
    {
     "name": "stdout",
     "output_type": "stream",
     "text": [
      "Company\n",
      "Yellow Cab    15\n",
      "Pink Cab       4\n",
      "Name: count, dtype: int64\n"
     ]
    }
   ],
   "source": [
    "# Find the company with the max rides per city\n",
    "dominant_company_per_city = city_company_stats.loc[city_company_stats.groupby(\"City\")[\"total_rides\"].idxmax()]\n",
    "\n",
    "# Count how many cities each company dominates\n",
    "company_dominance = dominant_company_per_city[\"Company\"].value_counts()\n",
    "\n",
    "# Display results\n",
    "print(company_dominance)"
   ]
  },
  {
   "cell_type": "markdown",
   "metadata": {},
   "source": [
    "##### *Now to visualize the graph by importing matplotlib*"
   ]
  },
  {
   "cell_type": "code",
   "execution_count": 20,
   "metadata": {},
   "outputs": [
    {
     "name": "stdout",
     "output_type": "stream",
     "text": [
      "Company\n",
      "Yellow Cab    15\n",
      "Pink Cab       4\n",
      "Name: count, dtype: int64\n"
     ]
    },
    {
     "data": {
      "image/png": "[encoded data removed]",
      "text/plain": [
       "<Figure size 640x480 with 1 Axes>"
      ]
     },
     "metadata": {},
     "output_type": "display_data"
    }
   ],
   "source": [
    "# Count the number of cities each company dominates\n",
    "company_dominance = dominant_company_per_city[\"Company\"].value_counts()\n",
    "\n",
    "# Display the results\n",
    "print(company_dominance)\n",
    "\n",
    "# Visualization\n",
    "import matplotlib.pyplot as plt\n",
    "\n",
    "company_dominance.plot(kind=\"bar\", color=[\"yellow\", \"pink\"])\n",
    "plt.title(\"Number of Cities Dominated by Each Cab Company\")\n",
    "plt.xlabel(\"Company\")\n",
    "plt.ylabel(\"Number of Cities\")\n",
    "plt.xticks(rotation=0)\n",
    "plt.show()"
   ]
  },
  {
   "cell_type": "markdown",
   "metadata": {},
   "source": [
    "#### *Hypothesis 2: Which Cab Company has a Larger Market Share*"
   ]
  },
  {
   "cell_type": "markdown",
   "metadata": {},
   "source": [
    "##### **Define Market Share**\n",
    "Market share can be measured in multiple ways, including:\n",
    "-  Total number of rides per company\n",
    "-  Total revenue per company\n",
    "-  Proportion of total transactions for each company\n",
    "\n",
    "If one cab company consistently has more rides and revenue, it indicates higher market share.\n",
    "\n",
    "##### **Data Preparation**\n",
    "We'll need to extract and summarize key metrics from Cab_Data.csv:\n",
    "\n",
    "- Company (which cab company provided the ride)\n",
    "- Price (fare amount per ride)\n",
    "- Transaction ID (unique ride count)"
   ]
  },
  {
   "cell_type": "code",
   "execution_count": null,
   "metadata": {},
   "outputs": [
    {
     "name": "stdout",
     "output_type": "stream",
     "text": [
      "      Company  Total_Rides  Total_Revenue  Ride_Share (%)  Revenue_Share (%)\n",
      "0    Pink Cab        84711   2.632825e+07       23.570642          17.300487\n",
      "1  Yellow Cab       274681   1.258539e+08       76.429358          82.699513\n"
     ]
    }
   ],
   "source": [
    "import pandas as pd\n",
    "import matplotlib.pyplot as plt\n",
    "import seaborn as sns\n",
    "\n",
    "# Load cab data\n",
    "cab_data = pd.read_csv(\"Cab_Data.csv\")\n",
    "\n",
    "# Summarize market share\n",
    "market_share = cab_data.groupby(\"Company\").agg(\n",
    "    Total_Rides=(\"Transaction ID\", \"count\"),  # Count of transactions (rides)\n",
    "    Total_Revenue=(\"Price Charged\", \"sum\")  # Sum of all fares per company\n",
    ").reset_index()\n",
    "\n",
    "# Calculate percentage share\n",
    "market_share[\"Ride_Share (%)\"] = (market_share[\"Total_Rides\"] / market_share[\"Total_Rides\"].sum()) * 100\n",
    "market_share[\"Revenue_Share (%)\"] = (market_share[\"Total_Revenue\"] / market_share[\"Total_Revenue\"].sum()) * 100\n",
    "\n",
    "# Display the summary\n",
    "print(market_share)"
   ]
  },
  {
   "cell_type": "markdown",
   "metadata": {},
   "source": [
    "##### *Now to visulaize the data*"
   ]
  },
  {
   "cell_type": "code",
   "execution_count": 7,
   "metadata": {},
   "outputs": [
    {
     "data": {
      "image/png": "[encoded data removed]",
      "text/plain": [
       "<Figure size 600x600 with 1 Axes>"
      ]
     },
     "metadata": {},
     "output_type": "display_data"
    }
   ],
   "source": [
    "plt.figure(figsize=(6, 6))\n",
    "plt.pie(market_share[\"Revenue_Share (%)\"], labels=market_share[\"Company\"], autopct='%1.1f%%', colors=[\"Pink\", \"Yellow\"])\n",
    "plt.title(\"Revenue Market Share\")\n",
    "plt.show()"
   ]
  },
  {
   "cell_type": "code",
   "execution_count": 9,
   "metadata": {},
   "outputs": [
    {
     "data": {
      "image/png": "[encoded data removed]",
      "text/plain": [
       "<Figure size 800x500 with 1 Axes>"
      ]
     },
     "metadata": {},
     "output_type": "display_data"
    }
   ],
   "source": [
    "plt.figure(figsize=(8, 5))\n",
    "sns.barplot(x=market_share[\"Company\"], y=market_share[\"Total_Rides\"])\n",
    "plt.title(\"Total Rides Per Company\", fontsize=14)\n",
    "plt.xlabel(\"Cab Company\", fontsize=12)\n",
    "plt.ylabel(\"Number of Rides\", fontsize=12)\n",
    "plt.show()"
   ]
  },
  {
   "cell_type": "markdown",
   "metadata": {},
   "source": [
    "#### *Hypothesis 3: How does Cab Company revenue vary with time*"
   ]
  },
  {
   "cell_type": "code",
   "execution_count": 21,
   "metadata": {},
   "outputs": [
    {
     "name": "stdout",
     "output_type": "stream",
     "text": [
      "   Transaction ID  Date of Travel   Company        City  KM Travelled  \\\n",
      "0        10000011           42377  Pink Cab  ATLANTA GA         30.45   \n",
      "1        10000012           42375  Pink Cab  ATLANTA GA         28.62   \n",
      "2        10000013           42371  Pink Cab  ATLANTA GA          9.04   \n",
      "3        10000014           42376  Pink Cab  ATLANTA GA         33.17   \n",
      "4        10000015           42372  Pink Cab  ATLANTA GA          8.73   \n",
      "\n",
      "   Price Charged  Cost of Trip  \n",
      "0         370.95       313.635  \n",
      "1         358.52       334.854  \n",
      "2         125.20        97.632  \n",
      "3         377.40       351.602  \n",
      "4         114.62        97.776  \n",
      "  Date of Travel\n",
      "0     2016-01-08\n",
      "1     2016-01-06\n",
      "2     2016-01-02\n",
      "3     2016-01-07\n",
      "4     2016-01-03\n",
      "  YearMonth  Total_Revenue\n",
      "0   2016-01     2257386.53\n",
      "1   2016-02     2742751.39\n",
      "2   2016-03     2861770.09\n",
      "3   2016-04     2938924.63\n",
      "4   2016-05     3493509.29\n"
     ]
    }
   ],
   "source": [
    "import pandas as pd\n",
    "\n",
    "# Load the Cab Data\n",
    "cab_data = pd.read_csv(\"Cab_Data.csv\")\n",
    "\n",
    "# Display the first few rows to understand the structure\n",
    "print(cab_data.head())\n",
    "# Convert 'Date of Travel' from Excel serial number to datetime\n",
    "cab_data[\"Date of Travel\"] = pd.to_datetime(cab_data[\"Date of Travel\"], origin=\"1899-12-30\", unit=\"D\")\n",
    "\n",
    "# Check if conversion worked\n",
    "print(cab_data[[\"Date of Travel\"]].head())\n",
    "# Extract Year-Month for analysis\n",
    "cab_data[\"YearMonth\"] = cab_data[\"Date of Travel\"].dt.to_period(\"M\")\n",
    "\n",
    "# Aggregate total revenue per month\n",
    "revenue_trend = cab_data.groupby(\"YearMonth\").agg(\n",
    "    Total_Revenue=(\"Price Charged\", \"sum\")  # Summing up revenue per month\n",
    ").reset_index()\n",
    "\n",
    "# Convert period format to string for proper plotting\n",
    "revenue_trend[\"YearMonth\"] = revenue_trend[\"YearMonth\"].astype(str)\n",
    "\n",
    "# Display the first few rows\n",
    "print(revenue_trend.head())"
   ]
  },
  {
   "cell_type": "code",
   "execution_count": 22,
   "metadata": {},
   "outputs": [
    {
     "data": {
      "image/png": "[encoded data removed]",
      "text/plain": [
       "<Figure size 1200x600 with 1 Axes>"
      ]
     },
     "metadata": {},
     "output_type": "display_data"
    }
   ],
   "source": [
    "import matplotlib.pyplot as plt\n",
    "import seaborn as sns\n",
    "\n",
    "# Set figure size\n",
    "plt.figure(figsize=(12, 6))\n",
    "\n",
    "# Plot revenue over time\n",
    "sns.lineplot(data=revenue_trend, x=\"YearMonth\", y=\"Total_Revenue\", marker=\"o\", color=\"red\")\n",
    "\n",
    "# Improve visualization\n",
    "plt.xticks(rotation=45)  # Rotate x-axis labels for better readability\n",
    "plt.title(\"Trend of Total Revenue Over Time\", fontsize=14)\n",
    "plt.xlabel(\"Year-Month\", fontsize=12)\n",
    "plt.ylabel(\"Total Revenue ($)\", fontsize=12)\n",
    "plt.grid(True)\n",
    "\n",
    "# Show the plot\n",
    "plt.show()"
   ]
  },
  {
   "cell_type": "markdown",
   "metadata": {},
   "source": [
    "### Hypothesis Results & Recommendations\n",
    "\n",
    "#### Hypothesis 1: Which cab company dominates the most cities?\n",
    "- In the Analyis we found that the Yellow Cab dominates more major US cities then the Pink Cab, so it we will assume that it has more market share as well\n",
    "#### Hypothesis 2: Which cab company has the most Market Share in the country\n",
    "- In the Analysis for this hypothesis we found that Yellow Cab has 82% of the marketshare in the country and about triple the amount of rides ordered\n",
    "#### Hypothesis 3: How does cab company revenue vary with time\n",
    "- In the Analysis for this hypothesis we found that the revune is very cyclical, but is currently on an upwards trajectory, so now would be a good time to invest in them.\n",
    "#### Final Recommendations\n",
    "- Based on the analysis, XYZ should invest in Yellow Cab\n",
    "- Supporting reasons:\n",
    "  1. Has a larger presence in more Major US cities\n",
    "  2. Has higher Country Marketshare so it would have a better return on investment in the long run\n",
    "  3. cab companies in general are on an upwards trajectory so its a good time to invest in them"
   ]
  }
 ],
 "metadata": {
  "kernelspec": {
   "display_name": "Python 3",
   "language": "python",
   "name": "python3"
  },
  "language_info": {
   "codemirror_mode": {
    "name": "ipython",
    "version": 3
   },
   "file_extension": ".py",
   "mimetype": "text/x-python",
   "name": "python",
   "nbconvert_exporter": "python",
   "pygments_lexer": "ipython3",
   "version": "3.11.4"
  }
 },
 "nbformat": 4,
 "nbformat_minor": 2
}
